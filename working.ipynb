{
 "cells": [
  {
   "cell_type": "code",
   "execution_count": 1,
   "metadata": {},
   "outputs": [],
   "source": [
    "import numpy as np\n",
    "import re"
   ]
  },
  {
   "cell_type": "markdown",
   "metadata": {},
   "source": [
    "## Day 1"
   ]
  },
  {
   "cell_type": "code",
   "execution_count": 2,
   "metadata": {},
   "outputs": [
    {
     "name": "stdout",
     "output_type": "stream",
     "text": [
      "55621\n"
     ]
    }
   ],
   "source": [
    "with open('day1Input.txt') as f:\n",
    "    data = f.readlines()\n",
    "\n",
    "numbers = []\n",
    "for string in data:\n",
    "    string = string.split(\"\\n\")[0]\n",
    "    # find the first number\n",
    "    first = re.search('(\\d)', string)\n",
    "\n",
    "    # Find the last (would be the same as first if only one number)\n",
    "    last = re.search('(\\d)', string[::-1])\n",
    "\n",
    "    numbers.append(first.group(1)+last.group(1))\n",
    "    \n",
    "# Make an array of integers and sum\n",
    "numbers = np.asarray(numbers, dtype=int)\n",
    "print(numbers.sum())"
   ]
  },
  {
   "cell_type": "markdown",
   "metadata": {},
   "source": [
    "Now we try to account also for numbers that are written down "
   ]
  },
  {
   "cell_type": "code",
   "execution_count": 3,
   "metadata": {},
   "outputs": [],
   "source": [
    "with open('day1Input.txt') as f:\n",
    "    data = f.readlines()\n",
    "\n",
    "\n",
    "# Make a dictionary of all the numbers\n",
    "numConv = {'one':'1', 'two':'2', 'three':'3', 'four':'4', 'five':'5',\n",
    "           'six':'6', 'seven':'7', 'eight':'8', 'nine':'9'}\n",
    "\n",
    "\n",
    "\n",
    "\n",
    "def ReplaceNumbers(string, mapping=numConv):\n",
    "    '''\n",
    "    Replaces written numbers with the numerics\n",
    "    \n",
    "    INPUT >>>  string = String to check over\n",
    "               map = Number conversion mapping\n",
    "              \n",
    "    OUTPUT >>> string [with all numeric numbers]\n",
    "    '''\n",
    "    for word, digit in mapping.items():\n",
    "        string = re.sub(word, word[0]+digit+word[-1], string, count=0, flags=re.IGNORECASE)\n",
    "    return string\n",
    "\n",
    "numbers = []\n",
    "for string in data:\n",
    "    string=string.split('\\n')[0]\n",
    "    # convert the numbers to digits\n",
    "    string = ReplaceNumbers(string)\n",
    "\n",
    "    # find the first number\n",
    "    first = re.search('(\\d)', string)\n",
    "\n",
    "    # Find the last (would be the same as first if only one number)\n",
    "    last = re.search('(\\d)', string[::-1])\n",
    "    numbers.append(first.group(1)+last.group(1))\n",
    "    \n",
    "# Make an array of integers and sum\n",
    "numbers = np.asarray(numbers, dtype=int)\n"
   ]
  },
  {
   "cell_type": "markdown",
   "metadata": {},
   "source": [
    "## Day 2"
   ]
  },
  {
   "cell_type": "code",
   "execution_count": 33,
   "metadata": {},
   "outputs": [
    {
     "name": "stdout",
     "output_type": "stream",
     "text": [
      "46 possible legit games with summed ids to 2283\n"
     ]
    }
   ],
   "source": [
    "# Dictionary of actual max ball numbers\n",
    "maxNums = {'red':12,\n",
    "           'green':13,\n",
    "           'blue':14}\n",
    "\n",
    "with open('day2Input.txt') as f:\n",
    "    data = f.readlines()\n",
    "\n",
    "# Keep track of legit games\n",
    "goodGames=[]\n",
    "for game in data:\n",
    "    # Find the maximum number of balls shown of each colour in the given game\n",
    "    redNum = max([int(re.sub(' red', '', string)) for string in re.findall(r'(\\d+ red)', game)])\n",
    "    greenNum = max([int(re.sub(' green', '', string)) for string in re.findall(r'(\\d+ green)', game)])\n",
    "    blueNum = max([int(re.sub(' blue', '', string)) for string in re.findall(r'(\\d+ blue)', game)])\n",
    "\n",
    "    # If all of these maximums are less than the max allowed then the game is legit and store the game id\n",
    "    if (redNum<=maxNums['red'])&(greenNum<=maxNums['green'])&(blueNum<=maxNums['blue']):\n",
    "        goodGames.append(int(re.search('(Game \\d+)', game).group(1).replace('Game ', '')))\n",
    "\n",
    "print(f'{len(goodGames)} possible legit games with summed ids to {sum(goodGames)}')\n"
   ]
  },
  {
   "cell_type": "markdown",
   "metadata": {},
   "source": [
    "Now we find the fewest number of cubes of each colour that could have made the game possible"
   ]
  },
  {
   "cell_type": "code",
   "execution_count": 34,
   "metadata": {},
   "outputs": [
    {
     "name": "stdout",
     "output_type": "stream",
     "text": [
      "Sum of cube power is 78669\n"
     ]
    }
   ],
   "source": [
    "with open('day2Input.txt') as f:\n",
    "    data = f.readlines()\n",
    "\n",
    "cubePower=[]\n",
    "for game in data:\n",
    "    # Find the maximum number of balls shown of each colour in the given game\n",
    "    # This max number is also the fewest needed of that colour\n",
    "    redNum = max([int(re.sub(' red', '', string)) for string in re.findall(r'(\\d+ red)', game)])\n",
    "    greenNum = max([int(re.sub(' green', '', string)) for string in re.findall(r'(\\d+ green)', game)])\n",
    "    blueNum = max([int(re.sub(' blue', '', string)) for string in re.findall(r'(\\d+ blue)', game)])\n",
    "\n",
    "    # Append the product of these values\n",
    "    cubePower.append(redNum*greenNum*blueNum)\n",
    "\n",
    "print(f'Sum of cube power is {sum(cubePower)}')\n",
    "    "
   ]
  },
  {
   "cell_type": "markdown",
   "metadata": {},
   "source": [
    "## Day 3"
   ]
  },
  {
   "cell_type": "code",
   "execution_count": 73,
   "metadata": {},
   "outputs": [
    {
     "name": "stdout",
     "output_type": "stream",
     "text": [
      "Sum of all part numbers in engine scheme is 522726\n",
      "[501 168 202 ... 855 261  42]\n"
     ]
    }
   ],
   "source": [
    "def FindSymbols(string, pattern=r'[^\\d.]'):\n",
    "    '''\n",
    "    Finds special symbols (not digits or periods)\n",
    "    in a string.\n",
    "\n",
    "    Returns True if symbol found\n",
    "    '''\n",
    "    matches = re.finditer(pattern, string)\n",
    "    if len([m.group() for m in matches])!=0:\n",
    "        return True\n",
    "    else:\n",
    "        return False\n",
    "\n",
    "\n",
    "# Read in the data without the line breaks at the end\n",
    "data = np.array([re.sub('\\n', '', line) for line in open('day3Input.txt')])\n",
    "# data = np.array([re.sub('\\n', '', line) for line in open('day3Test')])\n",
    "\n",
    "nums=[]\n",
    "# Loop through every line and find adjacent numbers\n",
    "for i, line in enumerate(data):\n",
    "    # Find numbers in current line\n",
    "    numbers = re.finditer(r'(\\d+)', line)\n",
    "    # if at first line only look to line 2\n",
    "    if i==0:\n",
    "        # look at the indices surrounding each number\n",
    "        for N in numbers:\n",
    "            # Set the start and end points\n",
    "            if N.start()==0: start=N.start()\n",
    "            else: start=N.start()-1\n",
    "            if N.end()==len(line)-1: end=N.end()\n",
    "            else: end=N.end()+1\n",
    "\n",
    "            # If found in next to number, add to list and skip to next number\n",
    "            if FindSymbols(line[start:end]):\n",
    "                nums.append(N.group())\n",
    "                continue\n",
    "\n",
    "            elif FindSymbols(data[i+1][start:end]):\n",
    "                nums.append(N.group())\n",
    "    \n",
    "    # If at final line only look at line before and current one \n",
    "    elif i==len(data)-1:\n",
    "        # look at the indices surrounding each number\n",
    "        for N in numbers:\n",
    "            # Set the start and end points\n",
    "            if N.start()==0: start=N.start()\n",
    "            else: start=N.start()-1\n",
    "            if N.end()==len(line)-1: end=N.end()\n",
    "            else: end=N.end()+1\n",
    "\n",
    "            # If found in next to number, add to list and skip to next number\n",
    "            if FindSymbols(data[i-1][start:end]):\n",
    "                nums.append(N.group())\n",
    "                continue\n",
    "            \n",
    "            elif FindSymbols(line[start:end]):\n",
    "                nums.append(N.group())\n",
    "                \n",
    "            \n",
    "    # Else look at the line above and below\n",
    "    else:\n",
    "        # look at the indices surrounding each number\n",
    "        for N in numbers:\n",
    "            # Set the start and end points\n",
    "            if N.start()==0: start=N.start()\n",
    "            else: start=N.start()-1\n",
    "            if N.end()==len(line)-1: end=N.end()\n",
    "            else: end=N.end()+1\n",
    "\n",
    "            # If found in next to number, add to list and skip to next number\n",
    "            if FindSymbols(data[i-1][start:end]):\n",
    "                nums.append(N.group())\n",
    "                continue\n",
    "\n",
    "            elif FindSymbols(line[start:end]):\n",
    "                nums.append(N.group())\n",
    "                continue\n",
    "            \n",
    "            elif FindSymbols(data[i+1][start:end]):\n",
    "                nums.append(N.group())\n",
    "                \n",
    "\n",
    "nums = np.asarray(nums, dtype=int)\n",
    "\n",
    "print(f'Sum of all part numbers in engine scheme is {sum(nums)}')\n",
    "print(nums)"
   ]
  },
  {
   "cell_type": "markdown",
   "metadata": {},
   "source": [
    "Now we search for \"gears\" which are exactly 2 numbers around an *\n",
    "\n",
    "We then compute the gear \"ratio\" (product of numbers)\n",
    "\n",
    "Finally we sum these gear ratios"
   ]
  },
  {
   "cell_type": "code",
   "execution_count": 167,
   "metadata": {},
   "outputs": [
    {
     "name": "stdout",
     "output_type": "stream",
     "text": [
      "Sum of gear ratios is 81721933\n"
     ]
    }
   ],
   "source": [
    "def CalcDist(centre, pos):\n",
    "    '''\n",
    "    Computes the distance between numbers and an astreix\n",
    "    '''\n",
    "    return np.sqrt(np.sum((pos-centre)**2, axis=1))\n",
    "\n",
    "\n",
    "# Read in the data without the line breaks at the end\n",
    "data = np.array([re.sub('\\n', '', line) for line in open('day3Input.txt')])\n",
    "# data = np.array([re.sub('\\n', '', line) for line in open('day3Test')])\n",
    "\n",
    "nums=[]; startPos=[]; endPos=[]\n",
    "astrx=[]\n",
    "for i, line in enumerate(data):\n",
    "    # Find centers\n",
    "    astrx.extend([[a.start(),i] for a in re.finditer(r'(\\*)', line)])\n",
    "    \n",
    "    # Find numbers and coords\n",
    "    nums.extend([int(N.group()) for N in re.finditer(r'(\\d+)', line)])\n",
    "    startPos.extend([N.start(),i] for N in re.finditer(r'(\\d+)', line))\n",
    "    endPos.extend([N.end()-1,i] for N in re.finditer(r'(\\d+)', line))\n",
    "\n",
    "# Make array for ease\n",
    "nums=np.asarray(nums).flatten()\n",
    "astrx = np.asarray(astrx)\n",
    "startPos = np.asarray(startPos)\n",
    "endPos = np.asarray(endPos)\n",
    "\n",
    "gr=[]\n",
    "for a in astrx:\n",
    "    # Calculate distance to start of number and end\n",
    "    startDist=CalcDist(a, startPos)\n",
    "    endDist=CalcDist(a, endPos)\n",
    "\n",
    "    # Find where numbers are close to astrix \n",
    "    numIndex = np.where((startDist<2)|(endDist<2))\n",
    "    gear = nums[numIndex]\n",
    "\n",
    "    # If exactly two numbers next to astrix find gear ratio\n",
    "    if len(gear)==2:\n",
    "        gr.append(gear[0]*gear[1])\n",
    "\n",
    "print(f'Sum of gear ratios is {sum(gr)}')"
   ]
  },
  {
   "cell_type": "markdown",
   "metadata": {},
   "source": [
    "## Day 4"
   ]
  },
  {
   "cell_type": "code",
   "execution_count": 224,
   "metadata": {},
   "outputs": [
    {
     "name": "stdout",
     "output_type": "stream",
     "text": [
      "Total number of points 35641\n"
     ]
    }
   ],
   "source": [
    "# Load the data \n",
    "data = np.array([re.sub('\\n', '', line) for line in open('day4Input.txt')])\n",
    "\n",
    "pointsPerCard=[]\n",
    "for line in data:\n",
    "    # Remove unnecessary characters and split winning nums and card nums\n",
    "    line = re.sub(r'(Card\\s+\\d+\\:\\s+)', '', line)\n",
    "    line = re.sub(r'(\\s+\\|\\s+)', '|', line)\n",
    "    line = re.sub(r'(\\s+)', ' ', line)\n",
    "    \n",
    "    # Split into two arrays\n",
    "    winNums = np.asarray(line.split('|')[0].split(' '), dtype=int); myNums = np.asarray(line.split('|')[1].split(' '), dtype=int)\n",
    "    \n",
    "    # find how many my nums in winning nums\n",
    "    number = sum(np.isin(myNums, winNums))\n",
    "\n",
    "    # points on the card is then 1 X 2^(number of match)\n",
    "    pointsPerCard.append(2**number)\n",
    "    \n",
    "print(f'Total number of points {sum(pointsPerCard)}')"
   ]
  },
  {
   "cell_type": "code",
   "execution_count": 210,
   "metadata": {},
   "outputs": [
    {
     "data": {
      "text/plain": [
       "array(['0'], dtype='<U1')"
      ]
     },
     "execution_count": 210,
     "metadata": {},
     "output_type": "execute_result"
    }
   ],
   "source": [
    "myNums"
   ]
  },
  {
   "cell_type": "code",
   "execution_count": null,
   "metadata": {},
   "outputs": [],
   "source": []
  }
 ],
 "metadata": {
  "kernelspec": {
   "display_name": "base",
   "language": "python",
   "name": "python3"
  },
  "language_info": {
   "codemirror_mode": {
    "name": "ipython",
    "version": 3
   },
   "file_extension": ".py",
   "mimetype": "text/x-python",
   "name": "python",
   "nbconvert_exporter": "python",
   "pygments_lexer": "ipython3",
   "version": "3.8.18"
  }
 },
 "nbformat": 4,
 "nbformat_minor": 2
}
